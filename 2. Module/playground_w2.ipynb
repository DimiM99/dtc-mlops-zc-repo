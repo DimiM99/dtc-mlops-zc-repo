{
 "cells": [
  {
   "cell_type": "code",
   "outputs": [],
   "source": [
    "import os\n",
    "import pickle\n",
    "import mlflow as mf\n",
    "import numpy as np\n",
    "\n",
    "from hyperopt import STATUS_OK, Trials, fmin, hp, tpe\n",
    "from hyperopt.pyll import scope\n",
    "\n",
    "from mlflow.entities import ViewType\n",
    "from mlflow.tracking import MlflowClient\n",
    "\n",
    "from sklearn.metrics import mean_squared_error\n",
    "from sklearn.ensemble import RandomForestRegressor\n",
    "\n",
    "import warnings\n",
    "warnings.filterwarnings('ignore')"
   ],
   "metadata": {
    "collapsed": false,
    "ExecuteTime": {
     "end_time": "2024-05-29T15:22:01.515047Z",
     "start_time": "2024-05-29T15:22:00.433459Z"
    }
   },
   "id": "cec420d87c945c6d",
   "execution_count": 1
  },
  {
   "cell_type": "code",
   "outputs": [
    {
     "name": "stderr",
     "output_type": "stream",
     "text": [
      "2024/05/29 17:22:04 INFO mlflow.tracking.fluent: Experiment with name 'raxi-data-experiment' does not exist. Creating a new experiment.\n"
     ]
    }
   ],
   "source": [
    "mf.set_tracking_uri('http://127.0.0.1:5000')\n",
    "mf.set_experiment('raxi-data-experiment')\n",
    "mf.sklearn.autolog(log_datasets = False)"
   ],
   "metadata": {
    "collapsed": false,
    "ExecuteTime": {
     "end_time": "2024-05-29T15:22:05.469226Z",
     "start_time": "2024-05-29T15:22:04.039982Z"
    }
   },
   "id": "ed4d54b1cad9817c",
   "execution_count": 2
  },
  {
   "cell_type": "markdown",
   "source": [
    "### Helper functions"
   ],
   "metadata": {
    "collapsed": false
   },
   "id": "76779c86a4a20cb0"
  },
  {
   "cell_type": "code",
   "outputs": [],
   "source": [
    "def load_pickle(filename: str):\n",
    "    with open(filename, \"rb\") as f_in:\n",
    "        return pickle.load(f_in)\n"
   ],
   "metadata": {
    "collapsed": false,
    "ExecuteTime": {
     "end_time": "2024-05-29T15:22:06.647074Z",
     "start_time": "2024-05-29T15:22:06.645167Z"
    }
   },
   "id": "27ad30fab8c755d3",
   "execution_count": 3
  },
  {
   "cell_type": "markdown",
   "source": [
    "### run train"
   ],
   "metadata": {
    "collapsed": false
   },
   "id": "6d50b7c738b535ac"
  },
  {
   "cell_type": "code",
   "outputs": [],
   "source": [
    "def run_train(data_path: str):\n",
    "    with mf.start_run():\n",
    "        \n",
    "        X_train, y_train = load_pickle(os.path.join(data_path, \"train.pkl\"))\n",
    "        X_val, y_val = load_pickle(os.path.join(data_path, \"val.pkl\"))\n",
    "    \n",
    "        rf = RandomForestRegressor(max_depth=10, random_state=0)\n",
    "        rf.fit(X_train, y_train)\n",
    "        y_pred = rf.predict(X_val)\n",
    "    \n",
    "        rmse = mean_squared_error(y_val, y_pred, squared=False)\n"
   ],
   "metadata": {
    "collapsed": false,
    "ExecuteTime": {
     "end_time": "2024-05-29T15:22:08.130567Z",
     "start_time": "2024-05-29T15:22:08.128170Z"
    }
   },
   "id": "ea22997789b6f4d8",
   "execution_count": 4
  },
  {
   "cell_type": "markdown",
   "source": [
    "### run_optimization"
   ],
   "metadata": {
    "collapsed": false
   },
   "id": "25b56fbe5ed30290"
  },
  {
   "cell_type": "code",
   "outputs": [],
   "source": [
    "def run_optimization(data_path: str, num_trials: int):\n",
    "\n",
    "    X_train, y_train = load_pickle(os.path.join(data_path, \"train.pkl\"))\n",
    "    X_val, y_val = load_pickle(os.path.join(data_path, \"val.pkl\"))\n",
    "\n",
    "    def objective(params):\n",
    "        mf.set_experiment(\"random-forest-hyperopt\")\n",
    "        with mf.start_run():\n",
    "            mf.log_params(params)\n",
    "            \n",
    "            rf = RandomForestRegressor(**params)\n",
    "            rf.fit(X_train, y_train)\n",
    "            y_pred = rf.predict(X_val)\n",
    "            rmse = mean_squared_error(y_val, y_pred, squared=False)\n",
    "            \n",
    "            mf.log_metric(\"rmse\", rmse)\n",
    "    \n",
    "            mf.end_run()\n",
    "\n",
    "            return {'loss': rmse, 'status': STATUS_OK}\n",
    "\n",
    "    search_space = {\n",
    "        'max_depth': scope.int(hp.quniform('max_depth', 1, 20, 1)),\n",
    "        'n_estimators': scope.int(hp.quniform('n_estimators', 10, 50, 1)),\n",
    "        'min_samples_split': scope.int(hp.quniform('min_samples_split', 2, 10, 1)),\n",
    "        'min_samples_leaf': scope.int(hp.quniform('min_samples_leaf', 1, 4, 1)),\n",
    "        'random_state': 42\n",
    "    }\n",
    "\n",
    "    rstate = np.random.default_rng(42)  # for reproducible results\n",
    "    fmin(\n",
    "        fn=objective,\n",
    "        space=search_space,\n",
    "        algo=tpe.suggest,\n",
    "        max_evals=num_trials,\n",
    "        trials=Trials(),\n",
    "        rstate=rstate\n",
    "    )\n"
   ],
   "metadata": {
    "collapsed": false,
    "ExecuteTime": {
     "end_time": "2024-05-29T15:22:09.159511Z",
     "start_time": "2024-05-29T15:22:09.155366Z"
    }
   },
   "id": "513ab86a089a69c2",
   "execution_count": 5
  },
  {
   "cell_type": "markdown",
   "source": [
    "### register model"
   ],
   "metadata": {
    "collapsed": false
   },
   "id": "309fa63aa4ae9094"
  },
  {
   "cell_type": "code",
   "outputs": [],
   "source": [
    "HPO_EXPERIMENT_NAME = \"random-forest-hyperopt\"\n",
    "EXPERIMENT_NAME = \"random-forest-best-models\"\n",
    "RF_PARAMS = ['max_depth', 'n_estimators', 'min_samples_split', 'min_samples_leaf', 'random_state']\n",
    "\n",
    "def train_and_log_model(data_path, params):\n",
    "    X_train, y_train = load_pickle(os.path.join(data_path, \"train.pkl\"))\n",
    "    X_val, y_val = load_pickle(os.path.join(data_path, \"val.pkl\"))\n",
    "    X_test, y_test = load_pickle(os.path.join(data_path, \"test.pkl\"))\n",
    "\n",
    "    with mf.start_run():\n",
    "        mf.set_experiment(EXPERIMENT_NAME)\n",
    "        new_params = {}\n",
    "        for param in RF_PARAMS:\n",
    "            new_params[param] = int(params[param])\n",
    "\n",
    "        rf = RandomForestRegressor(**new_params)\n",
    "        rf.fit(X_train, y_train)\n",
    "\n",
    "        # Evaluate model on the validation and test sets\n",
    "        val_rmse = mean_squared_error(y_val, rf.predict(X_val), squared=False)\n",
    "        mf.log_metric(\"val_rmse\", val_rmse)\n",
    "        test_rmse = mean_squared_error(y_test, rf.predict(X_test), squared=False)\n",
    "        mf.log_metric(\"test_rmse\", test_rmse)\n",
    "\n",
    "def run_register_model(data_path: str, top_n: int):\n",
    "    client = MlflowClient()\n",
    "\n",
    "    # Retrieve the top_n model runs and log the models\n",
    "    experiment = client.get_experiment_by_name(HPO_EXPERIMENT_NAME)\n",
    "    runs = client.search_runs(\n",
    "        experiment_ids=experiment.experiment_id,\n",
    "        run_view_type=ViewType.ACTIVE_ONLY,\n",
    "        max_results=top_n,\n",
    "        order_by=[\"metrics.rmse ASC\"]\n",
    "    )\n",
    "    for run in runs:\n",
    "        train_and_log_model(data_path=data_path, params=run.data.params)\n",
    "\n",
    "    # Select the model with the lowest test RMSE\n",
    "    experiment = client.get_experiment_by_name(EXPERIMENT_NAME)\n",
    "    best_run = client.search_runs(\n",
    "        experiment_ids=experiment.experiment_id,\n",
    "        run_view_type=ViewType.ACTIVE_ONLY,\n",
    "        max_results=1,\n",
    "        order_by=[\"metrics.test_rmse ASC\"]\n",
    "    )[0]\n",
    "\n",
    "    # Register the best model\n",
    "    model_uri = f\"runs:/{best_run.info.run_id}/model\"\n",
    "    model_name = \"nyc-taxi-regressor\"\n",
    "    mf.register_model(model_uri=model_uri, name=model_name)\n"
   ],
   "metadata": {
    "collapsed": false,
    "ExecuteTime": {
     "end_time": "2024-05-29T15:22:10.324427Z",
     "start_time": "2024-05-29T15:22:10.319526Z"
    }
   },
   "id": "176e1c3fafcbfe99",
   "execution_count": 6
  },
  {
   "cell_type": "markdown",
   "source": [
    "### Q1 Check the version of MLflow"
   ],
   "metadata": {
    "collapsed": false
   },
   "id": "8433c89af0ad99da"
  },
  {
   "cell_type": "code",
   "outputs": [
    {
     "data": {
      "text/plain": "'2.13.0'"
     },
     "execution_count": 7,
     "metadata": {},
     "output_type": "execute_result"
    }
   ],
   "source": [
    "mf.__version__"
   ],
   "metadata": {
    "collapsed": false,
    "ExecuteTime": {
     "end_time": "2024-05-29T15:22:11.572857Z",
     "start_time": "2024-05-29T15:22:11.569128Z"
    }
   },
   "id": "34035e2eca276458",
   "execution_count": 7
  },
  {
   "cell_type": "markdown",
   "source": [
    "### Q2 Get and preprocess the data"
   ],
   "metadata": {
    "collapsed": false
   },
   "id": "39b93211bd1a0cac"
  },
  {
   "cell_type": "code",
   "outputs": [],
   "source": [
    "!python toolbox/preprocess_data.py --raw_data_path ../data/ --dest_path ./output"
   ],
   "metadata": {
    "collapsed": false,
    "ExecuteTime": {
     "end_time": "2024-05-29T15:22:14.806882Z",
     "start_time": "2024-05-29T15:22:13.331748Z"
    }
   },
   "id": "9b0b0510d491a629",
   "execution_count": 8
  },
  {
   "cell_type": "markdown",
   "source": [
    "4 files are created in the output folder"
   ],
   "metadata": {
    "collapsed": false
   },
   "id": "2f334a01accf8904"
  },
  {
   "cell_type": "markdown",
   "source": [
    "### Q3 Train the model"
   ],
   "metadata": {
    "collapsed": false
   },
   "id": "71a0407bd6221a50"
  },
  {
   "cell_type": "code",
   "outputs": [],
   "source": [
    "run_train(\"./output\")"
   ],
   "metadata": {
    "collapsed": false,
    "ExecuteTime": {
     "end_time": "2024-05-29T15:22:25.564878Z",
     "start_time": "2024-05-29T15:22:17.164774Z"
    }
   },
   "id": "bcaaae639dcf2376",
   "execution_count": 9
  },
  {
   "cell_type": "markdown",
   "source": [
    "min_samples_split - 2"
   ],
   "metadata": {
    "collapsed": false
   },
   "id": "68f63b17b7768e49"
  },
  {
   "cell_type": "markdown",
   "source": [
    "### Q4 Launch the tracking server locally"
   ],
   "metadata": {
    "collapsed": false
   },
   "id": "8d2645f0986584ca"
  },
  {
   "cell_type": "markdown",
   "source": [
    "full command: mlflow server --backend-store-uri sqlite:///mlflow.db --default-artifact-root ./artifacts "
   ],
   "metadata": {
    "collapsed": false
   },
   "id": "b620820a701d8355"
  },
  {
   "cell_type": "markdown",
   "source": [
    "### Q5. Tune model hyperparameters"
   ],
   "metadata": {
    "collapsed": false
   },
   "id": "c5143df2bdfbd32a"
  },
  {
   "cell_type": "code",
   "outputs": [
    {
     "name": "stdout",
     "output_type": "stream",
     "text": [
      "  0%|          | 0/10 [00:00<?, ?trial/s, best loss=?]"
     ]
    },
    {
     "name": "stderr",
     "output_type": "stream",
     "text": [
      "2024/05/29 17:22:45 INFO mlflow.tracking.fluent: Experiment with name 'random-forest-hyperopt' does not exist. Creating a new experiment.\n",
      "\n"
     ]
    },
    {
     "name": "stdout",
     "output_type": "stream",
     "text": [
      "100%|██████████| 10/10 [00:36<00:00,  3.64s/trial, best loss: 5.354700855292386]\n"
     ]
    }
   ],
   "source": [
    "run_optimization(\"./output\", 10)"
   ],
   "metadata": {
    "collapsed": false,
    "ExecuteTime": {
     "end_time": "2024-05-29T15:23:22.025012Z",
     "start_time": "2024-05-29T15:22:45.569437Z"
    }
   },
   "id": "d89c494c353f9c4d",
   "execution_count": 10
  },
  {
   "cell_type": "markdown",
   "source": [
    "best validation RMSE: 5.354700855292386 "
   ],
   "metadata": {
    "collapsed": false
   },
   "id": "7b10a50b16d5fc32"
  },
  {
   "cell_type": "markdown",
   "source": [
    "### Q6 Promote the best model to the model registry"
   ],
   "metadata": {
    "collapsed": false
   },
   "id": "d7caca0a8b4f220a"
  },
  {
   "cell_type": "code",
   "outputs": [
    {
     "name": "stderr",
     "output_type": "stream",
     "text": [
      "2024/05/29 17:23:27 INFO mlflow.tracking.fluent: Experiment with name 'random-forest-best-models' does not exist. Creating a new experiment.\n",
      "Successfully registered model 'nyc-taxi-regressor'.\n",
      "2024/05/29 17:23:51 INFO mlflow.store.model_registry.abstract_store: Waiting up to 300 seconds for model version to finish creation. Model name: nyc-taxi-regressor, version 1\n",
      "Created version '1' of model 'nyc-taxi-regressor'.\n"
     ]
    }
   ],
   "source": [
    "run_register_model('./output', 5)"
   ],
   "metadata": {
    "collapsed": false,
    "ExecuteTime": {
     "end_time": "2024-05-29T15:23:51.943108Z",
     "start_time": "2024-05-29T15:23:27.085423Z"
    }
   },
   "id": "4b0da72387965981",
   "execution_count": 11
  },
  {
   "cell_type": "markdown",
   "source": [
    "test RMSE of the best model: 5.59"
   ],
   "metadata": {
    "collapsed": false
   },
   "id": "21d43c472e65a33"
  }
 ],
 "metadata": {
  "kernelspec": {
   "display_name": "Python 3",
   "language": "python",
   "name": "python3"
  },
  "language_info": {
   "codemirror_mode": {
    "name": "ipython",
    "version": 2
   },
   "file_extension": ".py",
   "mimetype": "text/x-python",
   "name": "python",
   "nbconvert_exporter": "python",
   "pygments_lexer": "ipython2",
   "version": "2.7.6"
  }
 },
 "nbformat": 4,
 "nbformat_minor": 5
}
